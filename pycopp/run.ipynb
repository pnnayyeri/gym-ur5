{
 "cells": [
  {
   "cell_type": "code",
   "execution_count": 1,
   "metadata": {},
   "outputs": [],
   "source": [
    "import gym\n",
    "import gym_ur5\n",
    "import numpy as np"
   ]
  },
  {
   "cell_type": "code",
   "execution_count": 9,
   "metadata": {},
   "outputs": [
    {
     "name": "stdout",
     "output_type": "stream",
     "text": [
      "[INFO] Connected to CoppeliaSim.\n",
      "[INFO] getting joint handles...\n",
      "[INFO] UR5_joint1 handle obtained.\n",
      "[INFO] UR5_joint2 handle obtained.\n",
      "[INFO] UR5_joint3 handle obtained.\n",
      "[INFO] UR5_joint4 handle obtained.\n",
      "[INFO] UR5_joint5 handle obtained.\n",
      "[INFO] UR5_joint6 handle obtained.\n",
      "[INFO] joint handles obtained successfully.\n",
      "[INFO] getting dummy handles...\n",
      "[INFO] Tip handle obtained.\n",
      "[INFO] TargetDummy handle obtained.\n",
      "[INFO] TestDummy handle obtained.\n",
      "[INFO] TargetObject handle obtained.\n",
      "[INFO] getting force sensor handles...\n",
      "[INFO] JacoHand_forceSens2_finger1 handle obtained.\n",
      "[INFO] JacoHand_forceSens2_finger2 handle obtained.\n",
      "[INFO] JacoHand_forceSens2_finger3 handle obtained.\n",
      "[INFO] force sensor handles obtained successfully.\n"
     ]
    }
   ],
   "source": [
    "env = gym.make('ur5-v0')"
   ]
  },
  {
   "cell_type": "code",
   "execution_count": 14,
   "metadata": {},
   "outputs": [
    {
     "name": "stdout",
     "output_type": "stream",
     "text": [
      "[INFO] reseting sim...\n",
      "[INFO] sim reset successfully.\n",
      "[INFO] starting sim in synchronous mode...\n",
      "[INFO] sim started successfully.\n",
      "[INFO] simulation is ready for tracking.\n"
     ]
    }
   ],
   "source": [
    "obs = env.reset()\n",
    "done = False"
   ]
  },
  {
   "cell_type": "code",
   "execution_count": 15,
   "metadata": {},
   "outputs": [],
   "source": [
    "while not done:\n",
    "    obs_, r, done, _ = env.step(obs[0:3])\n",
    "    obs = obs_"
   ]
  },
  {
   "cell_type": "code",
   "execution_count": null,
   "metadata": {},
   "outputs": [],
   "source": []
  },
  {
   "cell_type": "code",
   "execution_count": 16,
   "metadata": {},
   "outputs": [],
   "source": [
    "env.close()"
   ]
  },
  {
   "cell_type": "code",
   "execution_count": null,
   "metadata": {},
   "outputs": [],
   "source": []
  }
 ],
 "metadata": {
  "kernelspec": {
   "display_name": "Python 3",
   "language": "python",
   "name": "python3"
  },
  "language_info": {
   "codemirror_mode": {
    "name": "ipython",
    "version": 3
   },
   "file_extension": ".py",
   "mimetype": "text/x-python",
   "name": "python",
   "nbconvert_exporter": "python",
   "pygments_lexer": "ipython3",
   "version": "3.8.3"
  }
 },
 "nbformat": 4,
 "nbformat_minor": 4
}
